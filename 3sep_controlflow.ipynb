{
 "cells": [
  {
   "cell_type": "markdown",
   "id": "61922a0f-178c-4e2b-895d-f9b5760c550b",
   "metadata": {},
   "source": [
    "\n"
   ]
  },
  {
   "cell_type": "code",
   "execution_count": null,
   "id": "db28a1aa-d941-49e3-86c4-bdc800103f00",
   "metadata": {},
   "outputs": [],
   "source": [
    "#1Write a Python program to check if a given number is positive or negative\n",
    "x=-1\n",
    "if x>=0:\n",
    "    print('positive')\n",
    "else:\n",
    "    print('negative')"
   ]
  },
  {
   "cell_type": "code",
   "execution_count": null,
   "id": "f582f704-33a3-42e5-9835-b370477f3c43",
   "metadata": {},
   "outputs": [
    {
     "name": "stdin",
     "output_type": "stream",
     "text": [
      "enter the age: 34\n"
     ]
    },
    {
     "name": "stdout",
     "output_type": "stream",
     "text": [
      "eligible to vote\n"
     ]
    }
   ],
   "source": [
    "#2.Create a program that determines if a person is eligible to vote based on their age.\n",
    "x=int(input('enter the age:'))\n",
    "if x>=18:\n",
    "    print('eligible to vote')\n",
    "else:\n",
    "    print('not eligible to vote')\n"
   ]
  },
  {
   "cell_type": "code",
   "execution_count": null,
   "id": "83048bda-766b-4021-9fbf-7e3b5ec4d971",
   "metadata": {},
   "outputs": [],
   "source": []
  },
  {
   "cell_type": "code",
   "execution_count": 17,
   "id": "7e88aec2-a3e9-44f5-9d27-84c81285f984",
   "metadata": {},
   "outputs": [
    {
     "name": "stdout",
     "output_type": "stream",
     "text": [
      "18 is greater\n"
     ]
    }
   ],
   "source": [
    "#3. Develop a program to find the maximum of two numbers using if-else statements.\n",
    "x=16\n",
    "y=18\n",
    "if x>y:\n",
    "    print(x,'is greater')\n",
    "else:\n",
    "    print(y,'is greater')"
   ]
  },
  {
   "cell_type": "code",
   "execution_count": 5,
   "id": "08dea565-ff73-4466-af39-8153ae95c9a7",
   "metadata": {},
   "outputs": [
    {
     "name": "stdin",
     "output_type": "stream",
     "text": [
      "enter a year 200\n"
     ]
    },
    {
     "name": "stdout",
     "output_type": "stream",
     "text": [
      "this is not a leap year\n"
     ]
    }
   ],
   "source": [
    "#4. Write a Python script to classify a given year as a leap year or not.\n",
    "a=int(input('enter a year'))\n",
    "if a%400==0 and a%4==0 or a%100!=0:\n",
    "            print('this is leap year')\n",
    "else:\n",
    "    print('this is not a leap year')"
   ]
  },
  {
   "cell_type": "code",
   "execution_count": 14,
   "id": "079eba13-618b-4315-b594-e06cb329c928",
   "metadata": {},
   "outputs": [
    {
     "name": "stdin",
     "output_type": "stream",
     "text": [
      " a\n"
     ]
    },
    {
     "name": "stdout",
     "output_type": "stream",
     "text": [
      "vowel\n"
     ]
    }
   ],
   "source": [
    "#5. Create a program that checks whether a character is a vowel or a consonant.\n",
    "vowel=['a','e','i','o','u','A','E','I','O','U']\n",
    "x=input()\n",
    "if x in  vowel:\n",
    "    print('vowel')\n",
    "else:\n",
    "    print('consonants')"
   ]
  },
  {
   "cell_type": "code",
   "execution_count": 9,
   "id": "9b57cd68-c31e-446b-9c9d-c9b49fe77307",
   "metadata": {},
   "outputs": [
    {
     "name": "stdout",
     "output_type": "stream",
     "text": [
      "no is odd\n"
     ]
    }
   ],
   "source": [
    "#6. Implement a program to determine whether a given number is even or odd.\n",
    "x=23\n",
    "if x%2==0:\n",
    "    print('no is even')\n",
    "else:\n",
    "    print('no is odd')"
   ]
  },
  {
   "cell_type": "code",
   "execution_count": 1,
   "id": "66af51e5-37cf-40c0-bf7f-6584d43e231b",
   "metadata": {},
   "outputs": [
    {
     "name": "stdout",
     "output_type": "stream",
     "text": [
      "1\n"
     ]
    }
   ],
   "source": [
    "#7. Write a Python function to calculate the absolute value of a number without using the `abs()` function.\n",
    "x=-1\n",
    "if x<0:\n",
    "    print(-x)\n",
    "else:\n",
    "    print(x)"
   ]
  },
  {
   "cell_type": "code",
   "execution_count": 1,
   "id": "9a67fccf-20ce-4405-bfbd-05a9d394404d",
   "metadata": {},
   "outputs": [
    {
     "name": "stdout",
     "output_type": "stream",
     "text": [
      "3 is largest of three number\n"
     ]
    }
   ],
   "source": [
    "#8. Develop a program that determines the largest of three given numbers using if-else statements.\n",
    "x=1\n",
    "y=2\n",
    "z=3\n",
    "if x>y and x>z:\n",
    "    print(x, 'is largest of three number')\n",
    "elif y>z and y>x:\n",
    "    print(y, 'is largest of three number')\n",
    "else:\n",
    "    print(z, 'is largest of three number')"
   ]
  },
  {
   "cell_type": "code",
   "execution_count": 3,
   "id": "99057fed-3096-4e1a-8dce-19910e793b1d",
   "metadata": {},
   "outputs": [
    {
     "name": "stdout",
     "output_type": "stream",
     "text": [
      "palindrome\n"
     ]
    }
   ],
   "source": [
    "#9. Create a program that checks if a given string is a palindrome.\n",
    "x='madam'\n",
    "y=x[::-1]\n",
    "if x==y:\n",
    "    print('palindrome')\n",
    "else:\n",
    "    print('not a palindrome')"
   ]
  },
  {
   "cell_type": "code",
   "execution_count": 2,
   "id": "576bcb30-9e28-4585-bb67-da8bea52dc8c",
   "metadata": {},
   "outputs": [
    {
     "name": "stdin",
     "output_type": "stream",
     "text": [
      " 22\n"
     ]
    },
    {
     "name": "stdout",
     "output_type": "stream",
     "text": [
      "Your Grade is E1\n"
     ]
    }
   ],
   "source": [
    "#10. Write a Python program to calculate the grade based on a student's score.\n",
    "marks = int(input())\n",
    "if marks >=91 and marks<=100:\n",
    "    print(\"Your Grade is A1\")\n",
    "elif marks>=81 and marks<91:\n",
    "    print(\"Your Grade is A2\")\n",
    "elif marks>=71 and marks<81:\n",
    "    print(\"Your Grade is B1\")\n",
    "elif marks>=61 and marks<71:\n",
    "    print(\"Your Grade is B2\")\n",
    "elif marks>=51 and marks<61:\n",
    "    print(\"Your Grade is C1\")\n",
    "elif marks>=41 and marks<51:\n",
    "    print(\"Your Grade is C2\")\n",
    "elif marks>=33 and marks<41:\n",
    "    print(\"Your Grade is D\")\n",
    "else:\n",
    "    print(\"Your Grade is E1\")"
   ]
  },
  {
   "cell_type": "code",
   "execution_count": 25,
   "id": "ecb96d5b-31f6-465c-831e-1f316c1b949d",
   "metadata": {},
   "outputs": [
    {
     "name": "stdout",
     "output_type": "stream",
     "text": [
      "3\n"
     ]
    }
   ],
   "source": [
    "#11. Write a program to find the largest among three numbers using nested if-else statements.\n",
    "a=1\n",
    "b=2\n",
    "c=3\n",
    "if a>b:\n",
    "    if a>c:\n",
    "        print(a)\n",
    "    else:\n",
    "        print(c)\n",
    "    \n",
    "else:\n",
    "    if b>a:\n",
    "        if b>c:\n",
    "            print(b)\n",
    "        else:\n",
    "            print(c)\n",
    "        \n",
    "    "
   ]
  },
  {
   "cell_type": "code",
   "execution_count": 30,
   "id": "600e46ad-f083-4e74-802f-842c793310b5",
   "metadata": {},
   "outputs": [
    {
     "name": "stdin",
     "output_type": "stream",
     "text": [
      "enter side 1 of triangle 30\n",
      "enter side 2 of triangle 40\n",
      "enter side 3 of triangle 60\n"
     ]
    },
    {
     "name": "stdout",
     "output_type": "stream",
     "text": [
      "this is scalene triangle\n"
     ]
    }
   ],
   "source": [
    "#12. Implement a program to determine if a triangle is equilateral, isosceles, or scalene.\n",
    "side_1=int(input('enter side 1 of triangle'))\n",
    "side_2=int(input('enter side 2 of triangle'))\n",
    "side_3=int(input('enter side 3 of triangle'))\n",
    "if side_1==side_2:\n",
    "    if side_2==side_3:\n",
    "        print('this is equilateral triangle')\n",
    "    else:\n",
    "        if side_1==side_2 or side_2==side_3 or side_3==side:\n",
    "            print('this is isoceles triangle')\n",
    "else:\n",
    "     print('this is scalene triangle')\n",
    "      "
   ]
  },
  {
   "cell_type": "code",
   "execution_count": 2,
   "id": "9c9c736d-c8c6-4da4-97e6-968b87c6d25d",
   "metadata": {},
   "outputs": [
    {
     "name": "stdin",
     "output_type": "stream",
     "text": [
      "enter a year 300\n"
     ]
    },
    {
     "name": "stdout",
     "output_type": "stream",
     "text": [
      "this is not a leap year\n"
     ]
    }
   ],
   "source": [
    "#13. Develop a program that checks if a year is a leap year and also if it is a century year.\n",
    "a=int(input('enter a year'))\n",
    "if a%4==0:\n",
    "    if a%100==0:\n",
    "        if a%400==0:\n",
    "            print('this is leap year and century year')\n",
    "        else:\n",
    "            print('this is not a leap year')\n",
    "    else:\n",
    "        print('this is  leap year')\n",
    "else:\n",
    "    print('this is not a leap year')\n",
    "        "
   ]
  },
  {
   "cell_type": "code",
   "execution_count": 2,
   "id": "b81f107c-dbf9-4f71-b8e5-b1cf0ca0e593",
   "metadata": {},
   "outputs": [
    {
     "name": "stdin",
     "output_type": "stream",
     "text": [
      "enter a number 2\n"
     ]
    },
    {
     "name": "stdout",
     "output_type": "stream",
     "text": [
      "positive\n"
     ]
    }
   ],
   "source": [
    "#14. Write a Python script to determine if a number is positive, negative, or zero.\n",
    "a=int(input('enter a number'))\n",
    "if a==0:\n",
    "    print('zero')\n",
    "elif a>0:\n",
    "    print('positive')\n",
    "else:\n",
    "    print('negative')"
   ]
  },
  {
   "cell_type": "code",
   "execution_count": 13,
   "id": "2d8732f1-69f3-4a3b-b7a5-0988745845db",
   "metadata": {},
   "outputs": [
    {
     "name": "stdin",
     "output_type": "stream",
     "text": [
      "enter a number: 15\n"
     ]
    },
    {
     "name": "stdout",
     "output_type": "stream",
     "text": [
      "teenager\n"
     ]
    }
   ],
   "source": [
    "#15. Create a program to check if a person is a teenager (between 13 and 19 years old).\n",
    "a=int(input('enter a number:'))\n",
    "if a>=13:\n",
    "    if a<=19:\n",
    "        print('teenager')\n",
    "    else:\n",
    "        print('not a teennager')"
   ]
  },
  {
   "cell_type": "code",
   "execution_count": 20,
   "id": "7db5c698-3140-49ed-aad7-604bd4f7eac1",
   "metadata": {},
   "outputs": [
    {
     "name": "stdin",
     "output_type": "stream",
     "text": [
      "enter an angle: 49\n"
     ]
    },
    {
     "name": "stdout",
     "output_type": "stream",
     "text": [
      "acute angle\n"
     ]
    }
   ],
   "source": [
    "#16. Develop a program that determines the type of angle based on its measure (acute, obtuse, or right).\n",
    "a=int(input('enter an angle:'))\n",
    "if a<180:\n",
    "    if a>90:\n",
    "        print('obtuse angle')\n",
    "    else:\n",
    "        if a==90:\n",
    "            print('right angle')\n",
    "        else:\n",
    "                    print('acute angle')\n",
    "            \n",
    "            \n",
    "        "
   ]
  },
  {
   "cell_type": "code",
   "execution_count": 3,
   "id": "7eba4712-23dc-4be9-8862-fed598ba4499",
   "metadata": {},
   "outputs": [
    {
     "name": "stdin",
     "output_type": "stream",
     "text": [
      "Enter the coefficient 'a':  4\n",
      "Enter the coefficient 'b':  2\n",
      "Enter the coefficient 'c':  2\n"
     ]
    },
    {
     "name": "stdout",
     "output_type": "stream",
     "text": [
      "Root 1 -0.25 + 0.6614378277661477i\n",
      "Root 1 -0.25 - 0.6614378277661477i\n"
     ]
    }
   ],
   "source": [
    "#17. Write a Python program to calculate the roots of a quadratic equation.\n",
    "import math\n",
    "\n",
    "a = float(input(\"Enter the coefficient 'a': \"))\n",
    "b = float(input(\"Enter the coefficient 'b': \"))\n",
    "c = float(input(\"Enter the coefficient 'c': \"))\n",
    "\n",
    "discriminant = b**2 - 4*a*c\n",
    "\n",
    "\n",
    "if discriminant > 0:\n",
    "    \n",
    "    root1 = (-b + math.sqrt(discriminant)) / (2*a)\n",
    "    root2 = (-b - math.sqrt(discriminant)) / (2*a)\n",
    "    print('root 1 is',root1)\n",
    "    print('root 2', root2)\n",
    "elif discriminant == 0:\n",
    "   \n",
    "    root1 = -b / (2*a)\n",
    "    print('root 1 is', root1)\n",
    "else:\n",
    "    real_part = -b / (2*a)\n",
    "    imaginary_part = math.sqrt(-discriminant) / (2*a)\n",
    "    print('Root 1 {0} + {1}i'.format(real_part,imaginary_part))\n",
    "    print('Root 1 {0} - {1}i'.format(real_part,imaginary_part))"
   ]
  },
  {
   "cell_type": "code",
   "execution_count": 4,
   "id": "6f2328b8-9220-4b76-9e4c-c57cab45d26e",
   "metadata": {},
   "outputs": [
    {
     "name": "stdin",
     "output_type": "stream",
     "text": [
      "Enter a day number (1-7):  1\n"
     ]
    },
    {
     "name": "stdout",
     "output_type": "stream",
     "text": [
      "The day corresponding to day number 1 is Sunday.\n"
     ]
    }
   ],
   "source": [
    "#18.Implement a program to determine the day of the week based on a user-provided number (1 for Monday, 2 for Tuesday, etc.).\n",
    "  \n",
    "days = {\n",
    "    1: \"Sunday\",\n",
    "    2: \"Monday\",\n",
    "    3: \"Tuesday\",\n",
    "    4: \"Wednesday\",\n",
    "    5: \"Thursday\",\n",
    "    6: \"Friday\",\n",
    "    7: \"Saturday\"\n",
    "}\n",
    "\n",
    "day_number = int(input(\"Enter a day number (1-7): \"))\n",
    "\n",
    "if 1 <= day_number <= 7:\n",
    "  \n",
    "    days = days[day_number]\n",
    "    print(f\"The day corresponding to day number {day_number} is {days}.\")\n",
    "else:\n",
    "    print(\"Invalid day number. Please enter a number between 1 and 7.\")\n",
    "  \n",
    "                \n",
    "        "
   ]
  },
  {
   "cell_type": "code",
   "execution_count": null,
   "id": "dff1a99a-aeb0-4e6b-8e2d-532318eab1ca",
   "metadata": {},
   "outputs": [],
   "source": [
    "#19. Create a program that determines if a year is a leap year and also if it is evenly divisible by 400.'''\n",
    "\n",
    "\n",
    "a=int(input('enter a year'))\n",
    "if a%400==0 and a%4==0 or a%100!=0:\n",
    "        print('this is leap year')\n",
    "else:\n",
    "          print('this is not a leap year')"
   ]
  },
  {
   "cell_type": "code",
   "execution_count": 12,
   "id": "1c7fd29e-7606-4ac2-b245-380ece2ef2f7",
   "metadata": {},
   "outputs": [
    {
     "name": "stdin",
     "output_type": "stream",
     "text": [
      "enter a year 12\n"
     ]
    },
    {
     "name": "stdout",
     "output_type": "stream",
     "text": [
      "12 is not a prime number\n"
     ]
    }
   ],
   "source": [
    "#20. Develop a program that checks if a given number is prime or not using nested if-else statements.\n",
    "\n",
    "a=int(input('enter a year'))\n",
    "if a%2==0:\n",
    "    if a%3==0:\n",
    "        print(a,'is not a prime number')      \n",
    "    else:\n",
    "        print(a,'is  a prime number')"
   ]
  },
  {
   "cell_type": "code",
   "execution_count": 27,
   "id": "25944aed-66a6-4a24-9e93-0fca7f6cc551",
   "metadata": {},
   "outputs": [
    {
     "name": "stdin",
     "output_type": "stream",
     "text": [
      " 33\n"
     ]
    },
    {
     "name": "stdout",
     "output_type": "stream",
     "text": [
      "Your Grade is D\n"
     ]
    }
   ],
   "source": [
    "#21. Write a Python program to assign grades based on different ranges of scores using elif statements.\n",
    "marks = int(input())\n",
    "if marks >=91 and marks<=100:\n",
    "    print(\"Your Grade is A1\")\n",
    "elif marks>=81 and marks<91:\n",
    "    print(\"Your Grade is A2\")\n",
    "elif marks>=71 and marks<81:\n",
    "    print(\"Your Grade is B1\")\n",
    "elif marks>=61 and marks<71:\n",
    "    print(\"Your Grade is B2\")\n",
    "elif marks>=51 and marks<61:\n",
    "    print(\"Your Grade is C1\")\n",
    "elif marks>=41 and marks<51:\n",
    "    print(\"Your Grade is C2\")\n",
    "elif marks>=33 and marks<41:\n",
    "    print(\"Your Grade is D\")\n",
    "else:\n",
    "    print(\"Your Grade is E1\")"
   ]
  },
  {
   "cell_type": "code",
   "execution_count": 29,
   "id": "5834f1d3-d306-427c-9db2-0db2e95fba37",
   "metadata": {},
   "outputs": [
    {
     "name": "stdin",
     "output_type": "stream",
     "text": [
      "enter the sides of triangle 60\n",
      "enter the sides of triangle 70\n",
      "enter the sides of triangle 90\n"
     ]
    },
    {
     "name": "stdout",
     "output_type": "stream",
     "text": [
      "scalene triangle\n"
     ]
    }
   ],
   "source": [
    "#22. Implement a program to determine the type of a triangle based on its angles.\n",
    "a=int(input('enter the sides of triangle'))\n",
    "b=int(input('enter the sides of triangle'))\n",
    "c=int(input('enter the sides of triangle'))\n",
    "if a==b and b==c and c==a:\n",
    "    print('equilateral triangle')\n",
    "elif a==b or b==c or c==a:\n",
    "    print('isosceles triangles')\n",
    "else:\n",
    "    print('scalene triangle')\n",
    "          "
   ]
  },
  {
   "cell_type": "code",
   "execution_count": 31,
   "id": "3a6c9d5d-5928-48bb-96eb-b4792032c06d",
   "metadata": {},
   "outputs": [
    {
     "name": "stdin",
     "output_type": "stream",
     "text": [
      "enter your BMI 23\n"
     ]
    },
    {
     "name": "stdout",
     "output_type": "stream",
     "text": [
      "Your weight is normal.\n"
     ]
    }
   ],
   "source": [
    "#23. Develop a program to categorize a given person's BMI into underweight, normal, overweight, or obese using elif statements.\n",
    "a=int(input('enter your BMI' ))\n",
    "if a <= 18.5:\n",
    "    print(\"You are underweight.\")\n",
    "elif 18.5 < a <= 24.9:\n",
    "    print(\"Your weight is normal.\")\n",
    "elif 25 < a <= 29.29:\n",
    "    print(\"You are overweight.\")\n",
    "else:\n",
    "    print(\"You are obese.\")"
   ]
  },
  {
   "cell_type": "code",
   "execution_count": 32,
   "id": "068703d2-49ce-4c52-af8b-639a5ed241e3",
   "metadata": {},
   "outputs": [
    {
     "name": "stdin",
     "output_type": "stream",
     "text": [
      "enter  a number 0\n"
     ]
    },
    {
     "name": "stdout",
     "output_type": "stream",
     "text": [
      "zero\n"
     ]
    }
   ],
   "source": [
    "#24. Create a program that determines whether a given number is positive, negative, or zero using elif statements.\n",
    "a=int(input('enter  a number' ))\n",
    "if a==0:\n",
    "    print('zero')\n",
    "elif a>0:\n",
    "    print('positive')\n",
    "else:\n",
    "    print('negative')\n"
   ]
  },
  {
   "cell_type": "code",
   "execution_count": 10,
   "id": "ba2fbbf8-e3df-4a46-a518-d50a0072d48a",
   "metadata": {},
   "outputs": [
    {
     "name": "stdin",
     "output_type": "stream",
     "text": [
      "enter a word ASDF\n"
     ]
    },
    {
     "name": "stdout",
     "output_type": "stream",
     "text": [
      "uppercase\n"
     ]
    }
   ],
   "source": [
    "#25. Write a Python script to determine the type of a character (uppercase, lowercase, or special) using elif statements.\n",
    "x=input('enter a word')\n",
    "if x.isupper():\n",
    "    print('uppercase')\n",
    "elif x.islower():\n",
    "    print('lowercase')\n",
    "else:\n",
    "     print('special character')"
   ]
  },
  {
   "cell_type": "code",
   "execution_count": 4,
   "id": "85784e0c-6a18-4fe7-a057-5c05f3f96413",
   "metadata": {},
   "outputs": [
    {
     "name": "stdin",
     "output_type": "stream",
     "text": [
      "enter price for discount 3456\n"
     ]
    },
    {
     "name": "stdout",
     "output_type": "stream",
     "text": [
      "2937.6 is discounted price\n"
     ]
    }
   ],
   "source": [
    "#26. Implement a program to calculate the discounted price based on different purchase amounts using elif statements.\n",
    "x=int(input('enter price for discount'))\n",
    "if x<500:\n",
    "    print('no discount')\n",
    "elif x>500 and x<1000:\n",
    "    y=x*5/100\n",
    "    print(x-y,'is discounted price')\n",
    "elif x>=1000 and x<2000:\n",
    "    y=x*10/100\n",
    "    print(x-y,'is discounted price')\n",
    "elif x>2000:\n",
    "    y= x*15/100\n",
    "    print(x-y,'is discounted price')\n",
    "else:\n",
    "    pass"
   ]
  },
  {
   "cell_type": "code",
   "execution_count": 7,
   "id": "e326bf4f-5bbd-4863-ae41-5c28ac9950a8",
   "metadata": {},
   "outputs": [
    {
     "name": "stdin",
     "output_type": "stream",
     "text": [
      "enter price for discount 56\n"
     ]
    },
    {
     "name": "stdout",
     "output_type": "stream",
     "text": [
      "173.6 is electricity bill\n"
     ]
    }
   ],
   "source": [
    "#27. Develop a program to calculate the electricity bill based on different consumption slabs using elif statements\n",
    "x=int(input('enter price for discount'))\n",
    "if x<50:\n",
    "    y=x*1.95\n",
    "    print(y,'is electricity bill')\n",
    "elif x>51 and x<100:\n",
    "    y=x*3.10\n",
    "    print(y,'is electricity bill')\n",
    "elif x>=100 and x<150:\n",
    "    y=x*3.40\n",
    "    print(y,'is electricity bill')\n",
    "elif x>=150:\n",
    "    y= x*5.10\n",
    "    print(y,'is electricity bill')\n",
    "else:\n",
    "    pass"
   ]
  },
  {
   "cell_type": "code",
   "execution_count": 10,
   "id": "675dd6a1-44ea-488d-978e-a7b0b70236e0",
   "metadata": {},
   "outputs": [
    {
     "name": "stdin",
     "output_type": "stream",
     "text": [
      "enter angles 34 44 06 87\n",
      "enter sides 12 34 34 12\n"
     ]
    },
    {
     "name": "stdout",
     "output_type": "stream",
     "text": [
      "rectangle\n"
     ]
    }
   ],
   "source": [
    "#28. Create a program to determine the type of quadrilateral based on its angles and sides using elif statements.\n",
    "angle_a,angle_b,angle_c,angle_d=input('enter angles').split(\" \",4)\n",
    "side_a,side_b,side_c,side_d=input('enter sides').split(\" \",4)\n",
    "angle_sum = angle_a + angle_b + angle_c + angle_d\n",
    "if (angle_a==angle_b ==angle_c ==angle_d==90 ) and (side_a==side_b ==side_c ==side_d):\n",
    "    print('square')\n",
    "elif (angle_a==angle_b ==angle_c ==angle_d==90) and (side_a==side_c) and (side_b==side_d) or (side_c==side_d or side_d==side_a):\n",
    "    print('rectangle')\n",
    "elif  (angle_a==angle_b==angle_c ==angle_d) and (side_a==side_c and side_b==side_d) or (side_a==side_d and side_c==side_b):\n",
    "    print('rhobus')\n",
    "elif (angle_a==angle_c and angle_b==angle_d) or (angle_a==angle_d and angle_c==angle_b) and (side_a==side_c and side_b==side_d) or (side_a==side_d and side_c==side_b):\n",
    "    print('parallelogram')  \n",
    "                                                 \n",
    "else:\n",
    "    print(\"This is quadrilateral.\")                                                                                          \n",
    "                                                                                           \n"
   ]
  },
  {
   "cell_type": "code",
   "execution_count": 11,
   "id": "be44b848-b45c-48b4-8980-cbf861863bd1",
   "metadata": {},
   "outputs": [
    {
     "name": "stdin",
     "output_type": "stream",
     "text": [
      "Enter a month:  jhjghf\n",
      "Enter a month:  ';lkjhgh\n"
     ]
    },
    {
     "name": "stdout",
     "output_type": "stream",
     "text": [
      "Invalid month\n"
     ]
    }
   ],
   "source": [
    "#29. Write a Python script to determine the season based on a user-provided month using elif statements.\n",
    "# Input a month from the user\n",
    "month = input(\"Enter a month: \").lower()\n",
    "if month in (\"june\", \"july\", \"august\",\"september\"):\n",
    "    season = \"rainy season\"\n",
    "elif month in (\"october\", \"november\"):\n",
    "    season = \"autumn (Fall)\"\n",
    "elif month in (\"december\", \"january\", \"february\"):\n",
    "    season = \"winter season\"\n",
    "elif month in (\"march\", \"april\", \"may\"):\n",
    "    season = \"summer season\"\n",
    "else:\n",
    "    season = \"Invalid month\"\n",
    "    month = input(\"Enter a month: \").lower()\n",
    "\n",
    "print(season)\n"
   ]
  },
  {
   "cell_type": "code",
   "execution_count": null,
   "id": "3c9a3af0-051d-432f-91b2-b6e0462ac6af",
   "metadata": {},
   "outputs": [],
   "source": [
    "#30.Implement a program to determine the type of a year (leap or common) and month (30 or 31 days) usingelif statements.\n",
    "\n",
    "a = int(input(\"Enter a year\"))\n",
    "b=(\"january\", \"march\", \"may\", \"july\", \"august\", \"october\", \"december\")\n",
    "c=(\"april\", \"june\", \"september\", \"november\")\n",
    "month = input(\"Enter a month\").lower()\n",
    "\n",
    "\n",
    "if (a % 4 == 0 and a % 100 != 0) or (a % 400 == 0):\n",
    "    year = \"Leap Year\"\n",
    "else:\n",
    "    year = \"Common Year\"\n",
    "\n",
    "\n",
    "if month in b:\n",
    "    days = 31\n",
    "elif month in c :\n",
    "    days = 30\n",
    "elif month == \"february\":\n",
    "    if year == \"Leap Year\":\n",
    "        days = 29\n",
    "    else:\n",
    "        days = 28\n",
    "else:\n",
    "    year = \"Invalid year\"\n",
    "print(year)\n",
    "\n",
    "\n"
   ]
  },
  {
   "cell_type": "code",
   "execution_count": 11,
   "id": "dc6ba60a-f7a7-437c-8278-9b9544ea9bc8",
   "metadata": {},
   "outputs": [
    {
     "name": "stdin",
     "output_type": "stream",
     "text": [
      "enter a number 23\n"
     ]
    },
    {
     "name": "stdout",
     "output_type": "stream",
     "text": [
      "positive\n"
     ]
    }
   ],
   "source": [
    "##1. Write a Python script to determine if a number is positive, negative, or zero.\n",
    "a=int(input('enter a number'))\n",
    "if a==0:\n",
    "    print('zero')\n",
    "elif a>0:\n",
    "    print('positive')\n",
    "else:\n",
    "    print('negative')"
   ]
  },
  {
   "cell_type": "code",
   "execution_count": null,
   "id": "74da7119-dc52-472e-9ee6-c96037f6b70f",
   "metadata": {},
   "outputs": [],
   "source": [
    "#2. Create a program to determine if a person is eligible to vote based on their age.\n",
    "x=int(input('enter the age:'))\n",
    "if x>=18:\n",
    "    print('eligible to vote')\n",
    "else:\n",
    "    print('not eligible to vote')\n"
   ]
  },
  {
   "cell_type": "code",
   "execution_count": 13,
   "id": "a5528da0-4bc8-4e7c-b28c-62b38f3af0a3",
   "metadata": {},
   "outputs": [
    {
     "name": "stdin",
     "output_type": "stream",
     "text": [
      "enter the number: 344\n",
      "enter the number: 4444\n"
     ]
    },
    {
     "name": "stdout",
     "output_type": "stream",
     "text": [
      "4444 is maximum number \n"
     ]
    }
   ],
   "source": [
    "#3. Write a program to find the maximum of two given numbers\n",
    "x=int(input('enter the number:'))\n",
    "y=int(input('enter the number:'))\n",
    "if x>y:\n",
    "    print(x,'is maximum number ')\n",
    "else:\n",
    "    print(y,'is maximum number ')"
   ]
  },
  {
   "cell_type": "code",
   "execution_count": 14,
   "id": "39391489-7ac6-4629-9bab-5114b5f0bb0c",
   "metadata": {},
   "outputs": [
    {
     "name": "stdin",
     "output_type": "stream",
     "text": [
      " 78\n"
     ]
    },
    {
     "name": "stdout",
     "output_type": "stream",
     "text": [
      "Your Grade is B1\n"
     ]
    }
   ],
   "source": [
    "#4. Develop a program that calculates the grade of a student based on their exam score.\n",
    "marks = int(input())\n",
    "if marks >=91 and marks<=100:\n",
    "    print(\"Your Grade is A1\")\n",
    "elif marks>=81 and marks<91:\n",
    "    print(\"Your Grade is A2\")\n",
    "elif marks>=71 and marks<81:\n",
    "    print(\"Your Grade is B1\")\n",
    "elif marks>=61 and marks<71:\n",
    "    print(\"Your Grade is B2\")\n",
    "elif marks>=51 and marks<61:\n",
    "    print(\"Your Grade is C1\")\n",
    "elif marks>=41 and marks<51:\n",
    "    print(\"Your Grade is C2\")\n",
    "elif marks>=33 and marks<41:\n",
    "    print(\"Your Grade is D\")\n",
    "else:\n",
    "    print(\"Your Grade is E1\")"
   ]
  },
  {
   "cell_type": "code",
   "execution_count": 21,
   "id": "7a57fca1-109d-4a74-8cb1-f936a725fb36",
   "metadata": {},
   "outputs": [
    {
     "name": "stdin",
     "output_type": "stream",
     "text": [
      "enter a year 341\n"
     ]
    },
    {
     "name": "stdout",
     "output_type": "stream",
     "text": [
      "341  is leap year\n"
     ]
    }
   ],
   "source": [
    "#5. Create a program that checks if a year is a leap year or not.\n",
    "a=int(input('enter a year'))\n",
    "if a%4==0 and a%400==0 or a%100!=0:\n",
    "    print(a,' is leap year')\n",
    "else:\n",
    "    print(a, 'is not a leap year')"
   ]
  },
  {
   "cell_type": "code",
   "execution_count": 22,
   "id": "a8657090-c3b7-4a65-9647-9319a2771e03",
   "metadata": {},
   "outputs": [
    {
     "name": "stdin",
     "output_type": "stream",
     "text": [
      "enter side 1 of triangle 45\n",
      "enter side 2 of triangle 45\n",
      "enter side 3 of triangle 60\n"
     ]
    },
    {
     "name": "stdout",
     "output_type": "stream",
     "text": [
      "this is isoceles triangle\n"
     ]
    }
   ],
   "source": [
    "#6. Write a program to classify a triangle based on its sides' lengths.\n",
    "side_1=int(input('enter side 1 of triangle'))\n",
    "side_2=int(input('enter side 2 of triangle'))\n",
    "side_3=int(input('enter side 3 of triangle'))\n",
    "if side_1==side_2 and side_2==side_3:\n",
    "        print('this is equilateral triangle')\n",
    "elif side_1==side_2 or side_2==side_3 or side_3==side:\n",
    "         print('this is isoceles triangle')\n",
    "else:\n",
    "     print('this is scalene triangle')"
   ]
  },
  {
   "cell_type": "code",
   "execution_count": 27,
   "id": "a6a3ef35-221c-4184-bd9d-c5372b7b5dd8",
   "metadata": {},
   "outputs": [
    {
     "name": "stdout",
     "output_type": "stream",
     "text": [
      "3\n"
     ]
    }
   ],
   "source": [
    "#7. Build a program that determines the largest of three given numbers.\n",
    "a=1\n",
    "b=2\n",
    "c=3\n",
    "if a>b and a>c:\n",
    "    print(a)    \n",
    "elif b>a and b>c:\n",
    "    print(b)\n",
    "else:\n",
    "    print(c)"
   ]
  },
  {
   "cell_type": "code",
   "execution_count": 30,
   "id": "89b48ecf-6a3f-4721-9fab-03a92e237e0a",
   "metadata": {},
   "outputs": [
    {
     "name": "stdin",
     "output_type": "stream",
     "text": [
      "enter a character d\n"
     ]
    },
    {
     "name": "stdout",
     "output_type": "stream",
     "text": [
      "character is a consonant \n"
     ]
    }
   ],
   "source": [
    "#8. Develop a program that checks whether a character is a vowel or a consonant.\n",
    "s=input('enter a character')\n",
    "v=['a','e','i','o','u','A','E','I','O','U']\n",
    "  \n",
    "for vowels in s:\n",
    "    if vowels in v:\n",
    "        print('character is a vowel ')\n",
    "    else:\n",
    "         print('character is a consonant ')\n",
    "        \n"
   ]
  },
  {
   "cell_type": "code",
   "execution_count": 6,
   "id": "12a34128-2607-4cee-ae6f-449b4a9e3a29",
   "metadata": {},
   "outputs": [
    {
     "name": "stdin",
     "output_type": "stream",
     "text": [
      "enter the cost 235\n"
     ]
    },
    {
     "name": "stdout",
     "output_type": "stream",
     "text": [
      "176.25\n"
     ]
    }
   ],
   "source": [
    "#9. Create a program to calculate the total cost of a shopping cart based on discounts.\n",
    "def shoping_cart(cost):\n",
    "    if cost>500 and cost<1000:\n",
    "        discount=cost*0.1\n",
    "        print(cost-discount)\n",
    "    elif cost>1001 and cost<1500:\n",
    "        discount=cost*0.2\n",
    "        print(cost-discount)\n",
    "    else:\n",
    "        discount=cost*0.25\n",
    "        print(cost-discount)\n",
    "cost=int(input('enter the cost'))\n",
    "shoping_cart(cost)\n",
    "\n",
    " \n",
    "        \n"
   ]
  },
  {
   "cell_type": "code",
   "execution_count": 3,
   "id": "8144c25e-70e2-4b48-80a6-b9c4349f3d72",
   "metadata": {},
   "outputs": [
    {
     "name": "stdin",
     "output_type": "stream",
     "text": [
      "enter a number 23\n"
     ]
    },
    {
     "name": "stdout",
     "output_type": "stream",
     "text": [
      "odd number\n"
     ]
    }
   ],
   "source": [
    "#10. Write a program that checks if a given number is even or odd.\n",
    "a=int(input('enter a number'))\n",
    "if a%2==0:\n",
    "    print('even number')\n",
    "else:\n",
    "    print('odd number')\n"
   ]
  },
  {
   "cell_type": "code",
   "execution_count": 4,
   "id": "949c8d38-3416-4a9d-b18a-8535ee8ec174",
   "metadata": {},
   "outputs": [
    {
     "name": "stdin",
     "output_type": "stream",
     "text": [
      "Enter the coefficient 'a':  23\n",
      "Enter the coefficient 'b':  28\n",
      "Enter the coefficient 'c':  36\n"
     ]
    },
    {
     "name": "stdout",
     "output_type": "stream",
     "text": [
      "Root 1 -0.6086956521739131 + 1.093026529563177i\n",
      "Root 1 -0.6086956521739131 - 1.093026529563177i\n"
     ]
    }
   ],
   "source": [
    "#11. Write a program that calculates the roots of a quadratic equation\n",
    "import math\n",
    "\n",
    "a = float(input(\"Enter the coefficient 'a': \"))\n",
    "b = float(input(\"Enter the coefficient 'b': \"))\n",
    "c = float(input(\"Enter the coefficient 'c': \"))\n",
    "\n",
    "discriminant = b**2 - 4*a*c\n",
    "\n",
    "\n",
    "if discriminant > 0:\n",
    "    \n",
    "    root1 = (-b + math.sqrt(discriminant)) / (2*a)\n",
    "    root2 = (-b - math.sqrt(discriminant)) / (2*a)\n",
    "    print('root 1 is',root1)\n",
    "    print('root 2', root2)\n",
    "elif discriminant == 0:\n",
    "   \n",
    "    root1 = -b / (2*a)\n",
    "    print('root 1 is', root1)\n",
    "else:\n",
    "    real_part = -b / (2*a)\n",
    "    imaginary_part = math.sqrt(-discriminant) / (2*a)\n",
    "    print('Root 1 {0} + {1}i'.format(real_part,imaginary_part))\n",
    "    print('Root 1 {0} - {1}i'.format(real_part,imaginary_part))"
   ]
  },
  {
   "cell_type": "code",
   "execution_count": 8,
   "id": "2904597c-67fa-40a7-9a0e-5358c47a4e22",
   "metadata": {},
   "outputs": [
    {
     "name": "stdin",
     "output_type": "stream",
     "text": [
      "Enter a day number (1-7):  3\n"
     ]
    },
    {
     "name": "stdout",
     "output_type": "stream",
     "text": [
      "The day corresponding to day number 3 is Tuesday.\n"
     ]
    }
   ],
   "source": [
    "#12.reate a program that determines the day of the week based on the day number (1-7).\n",
    "\n",
    "\n",
    "days = {\n",
    "    1: \"Sunday\",\n",
    "    2: \"Monday\",\n",
    "    3: \"Tuesday\",\n",
    "    4: \"Wednesday\",\n",
    "    5: \"Thursday\",\n",
    "    6: \"Friday\",\n",
    "    7: \"Saturday\"\n",
    "}\n",
    "\n",
    "day_number = int(input(\"Enter a day number (1-7): \"))\n",
    "\n",
    "if 1 <= day_number <= 7:\n",
    "  \n",
    "    days = days[day_number]\n",
    "    print(f\"The day corresponding to day number {day_number} is {days}.\")\n",
    "else:\n",
    "    print(\"Invalid day number. Please enter a number between 1 and 7.\")\n"
   ]
  },
  {
   "cell_type": "code",
   "execution_count": 15,
   "id": "ad21fa74-80cc-4339-84cf-4a75060c77c3",
   "metadata": {},
   "outputs": [
    {
     "data": {
      "text/plain": [
       "24"
      ]
     },
     "execution_count": 15,
     "metadata": {},
     "output_type": "execute_result"
    }
   ],
   "source": [
    "#13Develop a program that calculates the factorial of a given number using recursion.\n",
    "\n",
    "\n",
    "def fac(x):\n",
    "    if x == 0:\n",
    "        return 1\n",
    "    else:\n",
    "        return x * fac(x - 1)\n",
    "fac(4)\n",
    "\n"
   ]
  },
  {
   "cell_type": "code",
   "execution_count": 7,
   "id": "6330ccf7-7039-49fa-89fe-c953c21f0383",
   "metadata": {},
   "outputs": [
    {
     "name": "stdout",
     "output_type": "stream",
     "text": [
      "7\n"
     ]
    }
   ],
   "source": [
    "#14. Write a program to find the largest among three numbers without using the `max()` function.\n",
    "x=[1,2,3,4,5,6,7]\n",
    "a=0\n",
    "for i in x:\n",
    "    if i>a:\n",
    "        a=i\n",
    "print(i)"
   ]
  },
  {
   "cell_type": "code",
   "execution_count": null,
   "id": "87e0f6ac-21b2-410b-914a-8ae1c4440018",
   "metadata": {},
   "outputs": [],
   "source": [
    "#15. Create a program that simulates a basic ATM transaction menu.\n",
    "x=2000\n",
    "def Account_balance():\n",
    "    print('Account balance is',x)\n",
    "def with_draw(y):\n",
    "    x=2000\n",
    "    if x>y:\n",
    "        y=int(input('enter a withdrawn amount'))\n",
    "        x=x-y\n",
    "        print('balance is',x)\n",
    "    else:\n",
    "        print('insufficient balance')\n",
    "def deposit(z):\n",
    "    x=2000\n",
    "    x=x+z\n",
    "    print('deposited money is',z,'total money is',x )\n",
    "while True:\n",
    "    print(\"\\nATM Menu:\")\n",
    "    print(\"1. Check Balance\")\n",
    "    print(\"2. Withdraw Money\")\n",
    "    print(\"3. Deposit Money\")\n",
    "   \n",
    "    \n",
    "    select=int(input('select option form display'))\n",
    "    if select==1:\n",
    "        Account_balance()\n",
    "    elif select==2:\n",
    "        y=float(int(input('enter your amount for withdrawn')))\n",
    "        with_draw(y)\n",
    "    elif select==3:\n",
    "        z=float(int(input('enter your amount for deposit')))\n",
    "        deposit(z)\n",
    "    else:\n",
    "        print('enter a valid option')\n",
    "\n",
    "    \n"
   ]
  },
  {
   "cell_type": "code",
   "execution_count": 1,
   "id": "2944539f-8ab2-4426-a1e5-129e95850256",
   "metadata": {},
   "outputs": [],
   "source": [
    "#16. Build a program that checks if a given string is a palindrome or not.\n",
    "def palindrome():\n",
    "    x=input('enter a word')\n",
    "    y=x[::-1]\n",
    "    if x==y:\n",
    "        print('palindrome')\n",
    "    else:\n",
    "        print('not a palindrome')"
   ]
  },
  {
   "cell_type": "code",
   "execution_count": 4,
   "id": "7ee3f2bd-18db-41d5-be89-e6720b8084bf",
   "metadata": {},
   "outputs": [
    {
     "name": "stdout",
     "output_type": "stream",
     "text": [
      "57.625\n"
     ]
    }
   ],
   "source": [
    "#17. Write a program that calculates the average of a list of numbers, excluding the smallest and largest values.\n",
    "x=[2,45,67,21,33,89,92,112]\n",
    "sorted_list=sorted(x)\n",
    "sorted_list[1:-1]\n",
    "aveg=sum(x)/len(x)\n",
    "print(aveg)\n",
    "\n",
    "    "
   ]
  },
  {
   "cell_type": "code",
   "execution_count": null,
   "id": "a2ed66e8-d1b4-4a20-8992-75f46b2f98a3",
   "metadata": {},
   "outputs": [],
   "source": [
    "#18. Develop a program that converts a given temperature from Celsius to Fahrenheit.\n",
    "x= int(input('enter temp in celsius'))\n",
    "z=(x*9/5)+32\n",
    "print('Fahrenheit_temperature is',z)"
   ]
  },
  {
   "cell_type": "code",
   "execution_count": 7,
   "id": "df212b2c-b989-480f-92a1-5e362bdfd319",
   "metadata": {},
   "outputs": [
    {
     "name": "stdin",
     "output_type": "stream",
     "text": [
      "enter a two number 12 12\n",
      "enter a operation + - * /: \n"
     ]
    },
    {
     "name": "stdout",
     "output_type": "stream",
     "text": [
      "plz enter a valid operation\n"
     ]
    }
   ],
   "source": [
    "#19. Create a program that simulates a basic calculator for addition, subtraction, multiplication, and division.\n",
    "x,y=(input('enter a two number')).split()\n",
    "z=input('enter a operation + - * /:')\n",
    "if z=='+':\n",
    "    add=int(x)+int(y)\n",
    "    print(add)\n",
    "elif z=='-':\n",
    "    subtraction=int(x)-int(y)\n",
    "    print(subtraction)\n",
    "elif z=='*':\n",
    "    multiplication=int(x)*int(y)\n",
    "    print(multiplication)    \n",
    "elif z=='/':\n",
    "    division=int(x)/int(y)\n",
    "    print(division) \n",
    "else:\n",
    "    print('plz enter a valid operation')"
   ]
  },
  {
   "cell_type": "code",
   "execution_count": null,
   "id": "3798a9ef-811f-41f2-ad26-8fdfa39e808b",
   "metadata": {},
   "outputs": [],
   "source": [
    "#20. Write a program that determines the roots of a cubic equation using the Cardano formula.\n"
   ]
  },
  {
   "cell_type": "code",
   "execution_count": null,
   "id": "39c58cba-369b-4899-a1ed-6c0fb79650dc",
   "metadata": {},
   "outputs": [],
   "source": [
    "\n",
    "\n"
   ]
  },
  {
   "cell_type": "code",
   "execution_count": null,
   "id": "6eabf6a8-925e-4859-b740-b7a26dc6b2fb",
   "metadata": {},
   "outputs": [],
   "source": [
    "\n"
   ]
  }
 ],
 "metadata": {
  "kernelspec": {
   "display_name": "Python 3 (ipykernel)",
   "language": "python",
   "name": "python3"
  },
  "language_info": {
   "codemirror_mode": {
    "name": "ipython",
    "version": 3
   },
   "file_extension": ".py",
   "mimetype": "text/x-python",
   "name": "python",
   "nbconvert_exporter": "python",
   "pygments_lexer": "ipython3",
   "version": "3.10.8"
  }
 },
 "nbformat": 4,
 "nbformat_minor": 5
}
